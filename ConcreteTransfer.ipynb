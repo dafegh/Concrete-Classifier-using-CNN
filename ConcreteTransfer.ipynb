{
  "nbformat": 4,
  "nbformat_minor": 0,
  "metadata": {
    "colab": {
      "name": "ConcreteTransfer.ipynb",
      "provenance": [],
      "include_colab_link": true
    },
    "kernelspec": {
      "name": "python3",
      "display_name": "Python 3"
    },
    "language_info": {
      "name": "python"
    }
  },
  "cells": [
    {
      "cell_type": "markdown",
      "metadata": {
        "id": "view-in-github",
        "colab_type": "text"
      },
      "source": [
        "<a href=\"https://colab.research.google.com/github/dafegh/Concrete-Classifier-using-CNN/blob/main/ConcreteTransfer.ipynb\" target=\"_parent\"><img src=\"https://colab.research.google.com/assets/colab-badge.svg\" alt=\"Open In Colab\"/></a>"
      ]
    },
    {
      "cell_type": "code",
      "metadata": {
        "colab": {
          "base_uri": "https://localhost:8080/"
        },
        "id": "u8Hu7O8YQKZA",
        "outputId": "cc639f6c-454d-4a5a-b9f3-1b15b9484809"
      },
      "source": [
        "\n",
        "from google.colab import drive\n",
        "drive.mount(\"/content/drive\")"
      ],
      "execution_count": null,
      "outputs": [
        {
          "output_type": "stream",
          "name": "stdout",
          "text": [
            "Mounted at /content/drive\n"
          ]
        }
      ]
    },
    {
      "cell_type": "code",
      "metadata": {
        "id": "iIzh9ilXQQfB"
      },
      "source": [
        "img_dir = ('/content/drive/MyDrive/concreteamalu/concreteamalu')"
      ],
      "execution_count": null,
      "outputs": []
    },
    {
      "cell_type": "code",
      "metadata": {
        "id": "fv1wRnKtQQmN"
      },
      "source": [
        "import pathlib\n",
        "\n",
        "img_dir = pathlib.Path(\"/content/drive/MyDrive/concreteamalu/concreteamalu\")\n",
        "\n",
        "count = len(list(img_dir.rglob(\"*/*.jpg\")))"
      ],
      "execution_count": null,
      "outputs": []
    },
    {
      "cell_type": "code",
      "metadata": {
        "colab": {
          "base_uri": "https://localhost:8080/"
        },
        "id": "4g7QgMAUQQpX",
        "outputId": "9b8154da-1e99-4935-abfd-d51a779bdb54"
      },
      "source": [
        "print(count)"
      ],
      "execution_count": null,
      "outputs": [
        {
          "output_type": "stream",
          "name": "stdout",
          "text": [
            "40000\n"
          ]
        }
      ]
    },
    {
      "cell_type": "code",
      "metadata": {
        "id": "5qqnlrzBQQse"
      },
      "source": [
        "from keras.models import Sequential\n",
        "from keras.layers import Dense, Conv2D, MaxPool2D , Flatten\n",
        "from keras.preprocessing.image import ImageDataGenerator\n",
        "import keras\n",
        "import numpy as np\n",
        "import tensorflow as tf\n",
        "from tensorflow import keras\n",
        "from tensorflow.keras import layers\n",
        "import tensorflow_hub as hub\n",
        "import matplotlib.pyplot as plt\n",
        "import os\n",
        "import PIL\n",
        "import h5py"
      ],
      "execution_count": null,
      "outputs": []
    },
    {
      "cell_type": "code",
      "metadata": {
        "id": "0BUhE3lAQQvV"
      },
      "source": [
        "img_args = dict(rescale=1./255, validation_split=.20)"
      ],
      "execution_count": null,
      "outputs": []
    },
    {
      "cell_type": "code",
      "metadata": {
        "colab": {
          "base_uri": "https://localhost:8080/"
        },
        "id": "sIgZGg6_QQyU",
        "outputId": "142f2e70-a73c-4fb7-8e8e-f8d4f3982799"
      },
      "source": [
        "#Training set\n",
        "Con_train = tf.keras.preprocessing.image.ImageDataGenerator(**img_args)\n",
        "\n",
        "train_gen = Con_train.flow_from_directory(\n",
        "img_dir,\n",
        "subset=\"training\",\n",
        "shuffle=True,\n",
        "target_size=(224, 224))\n",
        "\n",
        "#Test set\n",
        "Con_test = tf.keras.preprocessing.image.ImageDataGenerator(**img_args)\n",
        "\n",
        "test_gen = Con_test.flow_from_directory(\n",
        "img_dir,\n",
        "subset=\"validation\",\n",
        "shuffle=True,\n",
        "target_size=(224, 224))"
      ],
      "execution_count": null,
      "outputs": [
        {
          "output_type": "stream",
          "name": "stdout",
          "text": [
            "Found 32000 images belonging to 2 classes.\n",
            "Found 8000 images belonging to 2 classes.\n"
          ]
        }
      ]
    },
    {
      "cell_type": "code",
      "metadata": {
        "id": "66pFwj9bQQ03"
      },
      "source": [
        "#Getting label shape\n",
        "for image_batch, label_batch in train_gen:\n",
        "  break\n",
        "  image_batch.shape, label_batch.shape"
      ],
      "execution_count": null,
      "outputs": []
    },
    {
      "cell_type": "code",
      "metadata": {
        "colab": {
          "base_uri": "https://localhost:8080/"
        },
        "id": "LVrK1CQlQQ3y",
        "outputId": "00832c7f-d43d-454c-9b60-366532b5a515"
      },
      "source": [
        "#Print training class labels\n",
        "print (train_gen.class_indices)"
      ],
      "execution_count": null,
      "outputs": [
        {
          "output_type": "stream",
          "name": "stdout",
          "text": [
            "{'Crack': 0, 'Negative': 1}\n"
          ]
        }
      ]
    },
    {
      "cell_type": "code",
      "metadata": {
        "id": "pn57SblBQQ63"
      },
      "source": [
        "#Importing tensorflow hub for pretrained model\n",
        "import tensorflow_hub as hub"
      ],
      "execution_count": null,
      "outputs": []
    },
    {
      "cell_type": "code",
      "metadata": {
        "id": "7Ai0F_09SMFT"
      },
      "source": [
        "#Pretrained model parameters\n",
        "model_base = tf.keras.Sequential([\n",
        " hub.KerasLayer(\"https://tfhub.dev/google/tf2-preview/mobilenet_v2/feature_vector/4\", \n",
        " output_shape=[1280],\n",
        " trainable=False),\n",
        " tf.keras.layers.Dropout(0.4),\n",
        " tf.keras.layers.Dense(train_gen.num_classes, activation='softmax')\n",
        "])\n",
        "model_base.build([None, 224, 224, 3]) #Model build"
      ],
      "execution_count": null,
      "outputs": []
    },
    {
      "cell_type": "code",
      "metadata": {
        "colab": {
          "base_uri": "https://localhost:8080/"
        },
        "id": "6gh-csZESMJM",
        "outputId": "da6f32c2-dbc7-4b9e-8963-a39ceb8f66f8"
      },
      "source": [
        "model_base.summary()"
      ],
      "execution_count": null,
      "outputs": [
        {
          "output_type": "stream",
          "name": "stdout",
          "text": [
            "Model: \"sequential\"\n",
            "_________________________________________________________________\n",
            "Layer (type)                 Output Shape              Param #   \n",
            "=================================================================\n",
            "keras_layer (KerasLayer)     (None, 1280)              2257984   \n",
            "_________________________________________________________________\n",
            "dropout (Dropout)            (None, 1280)              0         \n",
            "_________________________________________________________________\n",
            "dense (Dense)                (None, 2)                 2562      \n",
            "=================================================================\n",
            "Total params: 2,260,546\n",
            "Trainable params: 2,562\n",
            "Non-trainable params: 2,257,984\n",
            "_________________________________________________________________\n"
          ]
        }
      ]
    },
    {
      "cell_type": "code",
      "metadata": {
        "colab": {
          "base_uri": "https://localhost:8080/"
        },
        "id": "eTCB2Oi0SMNI",
        "outputId": "de5b10f2-e271-45c3-c5d8-22d89cdcc985"
      },
      "source": [
        "#Model compilation\n",
        "optimizer = tf.keras.optimizers.Adam(lr=0.001)\n",
        "\n",
        "model_base.compile(\n",
        " optimizer=optimizer,\n",
        " loss= 'categorical_crossentropy',\n",
        " metrics=['accuracy'])"
      ],
      "execution_count": null,
      "outputs": [
        {
          "output_type": "stream",
          "name": "stderr",
          "text": [
            "/usr/local/lib/python3.7/dist-packages/keras/optimizer_v2/optimizer_v2.py:356: UserWarning: The `lr` argument is deprecated, use `learning_rate` instead.\n",
            "  \"The `lr` argument is deprecated, use `learning_rate` instead.\")\n"
          ]
        }
      ]
    },
    {
      "cell_type": "code",
      "metadata": {
        "colab": {
          "base_uri": "https://localhost:8080/"
        },
        "id": "dtJHfhxGSMPa",
        "outputId": "ff182a63-7448-4573-8167-d32b40042a31"
      },
      "source": [
        "from keras import callbacks\n",
        "earlystopping = callbacks.EarlyStopping(monitor =\"val_loss\", \n",
        "                                        mode =\"min\", patience = 5, \n",
        "                                        restore_best_weights = True)\n",
        "epochs=10\n",
        "history = model_base.fit(\n",
        "  train_gen,\n",
        "  validation_data=test_gen,\n",
        "  epochs=epochs,batch_size=128,\n",
        "  callbacks =[earlystopping]\n",
        ")"
      ],
      "execution_count": null,
      "outputs": [
        {
          "output_type": "stream",
          "name": "stdout",
          "text": [
            "Epoch 1/10\n",
            "1000/1000 [==============================] - 8606s 9s/step - loss: 0.0212 - accuracy: 0.9928 - val_loss: 0.0068 - val_accuracy: 0.9974\n",
            "Epoch 2/10\n",
            "1000/1000 [==============================] - 1122s 1s/step - loss: 0.0067 - accuracy: 0.9979 - val_loss: 0.0046 - val_accuracy: 0.9975\n",
            "Epoch 3/10\n",
            "1000/1000 [==============================] - 1151s 1s/step - loss: 0.0072 - accuracy: 0.9979 - val_loss: 0.0043 - val_accuracy: 0.9987\n",
            "Epoch 4/10\n",
            "1000/1000 [==============================] - 1140s 1s/step - loss: 0.0062 - accuracy: 0.9981 - val_loss: 0.0040 - val_accuracy: 0.9987\n",
            "Epoch 5/10\n",
            "1000/1000 [==============================] - 1154s 1s/step - loss: 0.0054 - accuracy: 0.9983 - val_loss: 0.0054 - val_accuracy: 0.9983\n",
            "Epoch 6/10\n",
            "1000/1000 [==============================] - 1182s 1s/step - loss: 0.0054 - accuracy: 0.9982 - val_loss: 0.0037 - val_accuracy: 0.9986\n",
            "Epoch 7/10\n",
            "1000/1000 [==============================] - 1196s 1s/step - loss: 0.0060 - accuracy: 0.9983 - val_loss: 0.0058 - val_accuracy: 0.9977\n",
            "Epoch 8/10\n",
            "1000/1000 [==============================] - 1168s 1s/step - loss: 0.0056 - accuracy: 0.9981 - val_loss: 0.0033 - val_accuracy: 0.9986\n",
            "Epoch 9/10\n",
            "1000/1000 [==============================] - 1181s 1s/step - loss: 0.0048 - accuracy: 0.9985 - val_loss: 0.0030 - val_accuracy: 0.9989\n",
            "Epoch 10/10\n",
            "1000/1000 [==============================] - 1249s 1s/step - loss: 0.0059 - accuracy: 0.9981 - val_loss: 0.0033 - val_accuracy: 0.9989\n"
          ]
        }
      ]
    },
    {
      "cell_type": "code",
      "metadata": {
        "colab": {
          "base_uri": "https://localhost:8080/",
          "height": 499
        },
        "id": "DOAoZUk-SMSW",
        "outputId": "f8e54871-6bb3-4477-8a2e-43c8a0d8051d"
      },
      "source": [
        "import matplotlib.pyplot as plt\n",
        "\n",
        "acc = history.history['accuracy']\n",
        "val_acc = history.history['val_accuracy']\n",
        "\n",
        "loss = history.history['loss']\n",
        "val_loss = history.history['val_loss']\n",
        "\n",
        "epochs_range = range(epochs)\n",
        "\n",
        "plt.figure(figsize=(8, 8))\n",
        "plt.subplot(1, 2, 1)\n",
        "plt.plot(epochs_range, acc, label='Training Accuracy')\n",
        "plt.plot(epochs_range, val_acc, label='Validation Accuracy')\n",
        "plt.legend(loc='lower right')\n",
        "plt.title('Training and Validation Accuracy')\n",
        "\n",
        "plt.subplot(1, 2, 2)\n",
        "plt.plot(epochs_range, loss, label='Training Loss')\n",
        "plt.plot(epochs_range, val_loss, label='Validation Loss')\n",
        "plt.legend(loc='upper right')\n",
        "plt.title('Training and Validation Loss')\n",
        "plt.show()"
      ],
      "execution_count": null,
      "outputs": [
        {
          "output_type": "display_data",
          "data": {
            "image/png": "[encoded data removed]",
            "text/plain": [
              "<Figure size 576x576 with 2 Axes>"
            ]
          },
          "metadata": {
            "needs_background": "light"
          }
        }
      ]
    },
    {
      "cell_type": "code",
      "metadata": {
        "colab": {
          "base_uri": "https://localhost:8080/"
        },
        "id": "Mg9q49SpSMV0",
        "outputId": "8ddc9d39-e08f-4047-b397-d5cefa823682"
      },
      "source": [
        "acc = model_base.evaluate(test_gen)\n",
        "print('Accuracy: %.2f'%(acc[1]*100))"
      ],
      "execution_count": null,
      "outputs": [
        {
          "output_type": "stream",
          "name": "stdout",
          "text": [
            "250/250 [==============================] - 251s 1s/step - loss: 0.0033 - accuracy: 0.9989\n",
            "Accuracy: 99.89\n"
          ]
        }
      ]
    },
    {
      "cell_type": "code",
      "metadata": {
        "id": "JAOnVRJbVRgA"
      },
      "source": [
        "concretetrans_dir = '/content/drive/MyDrive/ConcreteTRANS/modeltrans_dir.h5'\n",
        "model_base.save(concretetrans_dir)"
      ],
      "execution_count": null,
      "outputs": []
    }
  ]
}